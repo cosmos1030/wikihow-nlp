{
 "cells": [
  {
   "cell_type": "markdown",
   "id": "5988f9af",
   "metadata": {},
   "source": [
    "언어 모델: 단어 시퀀스에 확률을 할당하는 모델"
   ]
  },
  {
   "cell_type": "code",
   "execution_count": null,
   "id": "ad607619",
   "metadata": {},
   "outputs": [],
   "source": []
  }
 ],
 "metadata": {
  "kernelspec": {
   "display_name": "Python 3 (ipykernel)",
   "language": "python",
   "name": "python3"
  },
  "language_info": {
   "codemirror_mode": {
    "name": "ipython",
    "version": 3
   },
   "file_extension": ".py",
   "mimetype": "text/x-python",
   "name": "python",
   "nbconvert_exporter": "python",
   "pygments_lexer": "ipython3",
   "version": "3.8.13"
  }
 },
 "nbformat": 4,
 "nbformat_minor": 5
}
